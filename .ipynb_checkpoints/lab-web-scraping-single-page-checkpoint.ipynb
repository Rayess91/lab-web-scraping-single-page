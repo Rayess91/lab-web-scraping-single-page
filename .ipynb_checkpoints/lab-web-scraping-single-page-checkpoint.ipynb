{
 "cells": [
  {
   "cell_type": "markdown",
   "id": "839e48d8",
   "metadata": {},
   "source": [
    "Business goal:\n",
    "Check the case_study_gnod.md file.\n",
    "\n",
    "Make sure you've understood the big picture of your project:\n",
    "\n",
    "the goal of the company (Gnod),\n",
    "their current product (Gnoosic),\n",
    "their strategy, and\n",
    "how your project fits into this context.\n",
    "Re-read the business case and the e-mail from the CTO.\n",
    "\n",
    "Instructions - Scraping popular songs\n",
    "Your product will take a song as an input from the user and will output another song (the recommendation). In most cases, the recommended song will have to be similar to the inputted song, but the CTO thinks that if the song is on the top charts at the moment, the user will also enjoy a recommendation of another song that is popular at the moment.\n",
    "\n",
    "You have to find data on the internet about currently popular songs. Popvortex maintains a weekly Top 100 of \"hot\" songs here: http://www.popvortex.com/music/charts/top-100-songs.php.\n",
    "\n",
    "It's a good place to start! Scrape the current top 100 songs and their respective artists, and put the information into a pandas dataframe."
   ]
  },
  {
   "cell_type": "code",
   "execution_count": 1,
   "id": "44aa59a2",
   "metadata": {},
   "outputs": [],
   "source": [
    "from bs4 import BeautifulSoup\n",
    "import requests\n",
    "import pandas as pd"
   ]
  },
  {
   "cell_type": "code",
   "execution_count": 2,
   "id": "01a41ecd",
   "metadata": {},
   "outputs": [],
   "source": [
    "url = 'https://www.popvortex.com/music/charts/top-100-songs.php'\n"
   ]
  },
  {
   "cell_type": "code",
   "execution_count": 3,
   "id": "26de9924",
   "metadata": {},
   "outputs": [],
   "source": [
    "response = requests.get(url)"
   ]
  },
  {
   "cell_type": "code",
   "execution_count": 4,
   "id": "7dfac748",
   "metadata": {},
   "outputs": [
    {
     "data": {
      "text/plain": [
       "200"
      ]
     },
     "execution_count": 4,
     "metadata": {},
     "output_type": "execute_result"
    }
   ],
   "source": [
    "response.status_code"
   ]
  },
  {
   "cell_type": "code",
   "execution_count": 5,
   "id": "a00abc07",
   "metadata": {},
   "outputs": [],
   "source": [
    "#response.content"
   ]
  },
  {
   "cell_type": "code",
   "execution_count": 6,
   "id": "91fbbc1f",
   "metadata": {},
   "outputs": [],
   "source": [
    "soup = BeautifulSoup(response.content, \"html.parser\")"
   ]
  },
  {
   "cell_type": "code",
   "execution_count": 7,
   "id": "43d180d8",
   "metadata": {},
   "outputs": [
    {
     "data": {
      "text/plain": [
       "[<p class=\"title-artist\"><cite class=\"title\">Not Like Us</cite><em class=\"artist\">Kendrick Lamar</em></p>,\n",
       " <p class=\"title-artist\"><cite class=\"title\">A Bar Song (Tipsy)</cite><em class=\"artist\">Shaboozey</em></p>,\n",
       " <p class=\"title-artist\"><cite class=\"title\">meet the grahams</cite><em class=\"artist\">Kendrick Lamar</em></p>,\n",
       " <p class=\"title-artist\"><cite class=\"title\">Lose Control</cite><em class=\"artist\">Teddy Swims</em></p>,\n",
       " <p class=\"title-artist\"><cite class=\"title\">Where That Came From</cite><em class=\"artist\">Randy Travis</em></p>,\n",
       " <p class=\"title-artist\"><cite class=\"title\">euphoria</cite><em class=\"artist\">Kendrick Lamar</em></p>,\n",
       " <p class=\"title-artist\"><cite class=\"title\">Beautiful Things</cite><em class=\"artist\">Benson Boone</em></p>,\n",
       " <p class=\"title-artist\"><cite class=\"title\">Family Matters</cite><em class=\"artist\">Drake</em></p>,\n",
       " <p class=\"title-artist\"><cite class=\"title\">MILLION DOLLAR BABY</cite><em class=\"artist\">Tommy Richman</em></p>,\n",
       " <p class=\"title-artist\"><cite class=\"title\">Too Sweet</cite><em class=\"artist\">Hozier</em></p>,\n",
       " <p class=\"title-artist\"><cite class=\"title\">A Bar Song (Tipsy)</cite><em class=\"artist\">Shaboozey</em></p>,\n",
       " <p class=\"title-artist\"><cite class=\"title\">Not Today</cite><em class=\"artist\">BTS</em></p>,\n",
       " <p class=\"title-artist\"><cite class=\"title\">Hollywood Nights</cite><em class=\"artist\">Black Oxygen</em></p>,\n",
       " <p class=\"title-artist\"><cite class=\"title\">Espresso</cite><em class=\"artist\">Sabrina Carpenter</em></p>,\n",
       " <p class=\"title-artist\"><cite class=\"title\">Miles On It</cite><em class=\"artist\">Marshmello &amp; Kane Brown</em></p>,\n",
       " <p class=\"title-artist\"><cite class=\"title\">Fortnight (feat. Post Malone)</cite><em class=\"artist\">Taylor Swift</em></p>,\n",
       " <p class=\"title-artist\"><cite class=\"title\">Like That</cite><em class=\"artist\">Future, Metro Boomin &amp; Kendrick Lamar</em></p>,\n",
       " <p class=\"title-artist\"><cite class=\"title\">Kendrick Lamar 6:16 In LA Drake Diss</cite><em class=\"artist\">Gloc23</em></p>,\n",
       " <p class=\"title-artist\"><cite class=\"title\">Illusion</cite><em class=\"artist\">Dua Lipa</em></p>,\n",
       " <p class=\"title-artist\"><cite class=\"title\">Training Season</cite><em class=\"artist\">Dua Lipa</em></p>,\n",
       " <p class=\"title-artist\"><cite class=\"title\">Live Like You Were Dying</cite><em class=\"artist\">Tim McGraw</em></p>,\n",
       " <p class=\"title-artist\"><cite class=\"title\">Hollywood Nights</cite><em class=\"artist\">Black Oxygen</em></p>,\n",
       " <p class=\"title-artist\"><cite class=\"title\">The Door</cite><em class=\"artist\">Teddy Swims</em></p>,\n",
       " <p class=\"title-artist\"><cite class=\"title\">Push Ups</cite><em class=\"artist\">Drake</em></p>,\n",
       " <p class=\"title-artist\"><cite class=\"title\">Wondering Why</cite><em class=\"artist\">The Red Clay Strays</em></p>,\n",
       " <p class=\"title-artist\"><cite class=\"title\">Save Me (with Lainey Wilson)</cite><em class=\"artist\">Jelly Roll</em></p>,\n",
       " <p class=\"title-artist\"><cite class=\"title\">Where the Wild Things Are</cite><em class=\"artist\">Luke Combs</em></p>,\n",
       " <p class=\"title-artist\"><cite class=\"title\">i like the way you kiss me</cite><em class=\"artist\">Artemas</em></p>,\n",
       " <p class=\"title-artist\"><cite class=\"title\">GO HOME W U</cite><em class=\"artist\">Keith Urban &amp; Lainey Wilson</em></p>,\n",
       " <p class=\"title-artist\"><cite class=\"title\">Halfway To Hell</cite><em class=\"artist\">Jelly Roll</em></p>,\n",
       " <p class=\"title-artist\"><cite class=\"title\">Wildflowers and Wild Horses (Single Version)</cite><em class=\"artist\">Lainey Wilson</em></p>,\n",
       " <p class=\"title-artist\"><cite class=\"title\">Lil Boo Thang</cite><em class=\"artist\">Paul Russell</em></p>,\n",
       " <p class=\"title-artist\"><cite class=\"title\">Austin</cite><em class=\"artist\">Dasha</em></p>,\n",
       " <p class=\"title-artist\"><cite class=\"title\">Stick Season</cite><em class=\"artist\">Noah Kahan</em></p>,\n",
       " <p class=\"title-artist\"><cite class=\"title\">TRUCK BED</cite><em class=\"artist\">HARDY</em></p>,\n",
       " <p class=\"title-artist\"><cite class=\"title\">Need a Favor</cite><em class=\"artist\">Jelly Roll</em></p>,\n",
       " <p class=\"title-artist\"><cite class=\"title\">The Sound of Silence (CYRIL Remix)</cite><em class=\"artist\">Disturbed</em></p>,\n",
       " <p class=\"title-artist\"><cite class=\"title\">Unwritten</cite><em class=\"artist\">Natasha Bedingfield</em></p>,\n",
       " <p class=\"title-artist\"><cite class=\"title\">I Can Do It With a Broken Heart</cite><em class=\"artist\">Taylor Swift</em></p>,\n",
       " <p class=\"title-artist\"><cite class=\"title\">Cowgirls (feat. ERNEST)</cite><em class=\"artist\">Morgan Wallen</em></p>,\n",
       " <p class=\"title-artist\"><cite class=\"title\">White Horse</cite><em class=\"artist\">Chris Stapleton</em></p>,\n",
       " <p class=\"title-artist\"><cite class=\"title\">Dirt Cheap</cite><em class=\"artist\">Cody Johnson</em></p>,\n",
       " <p class=\"title-artist\"><cite class=\"title\">A Country Boy Can Survive</cite><em class=\"artist\">Hank Williams, Jr.</em></p>,\n",
       " <p class=\"title-artist\"><cite class=\"title\">Fast Car</cite><em class=\"artist\">Luke Combs</em></p>,\n",
       " <p class=\"title-artist\"><cite class=\"title\">TEXAS HOLD 'EM</cite><em class=\"artist\">Beyoncé</em></p>,\n",
       " <p class=\"title-artist\"><cite class=\"title\">Austin</cite><em class=\"artist\">Dasha</em></p>,\n",
       " <p class=\"title-artist\"><cite class=\"title\">Save Me</cite><em class=\"artist\">Jelly Roll</em></p>,\n",
       " <p class=\"title-artist\"><cite class=\"title\">Houdini</cite><em class=\"artist\">Dua Lipa</em></p>,\n",
       " <p class=\"title-artist\"><cite class=\"title\">Beautiful Things</cite><em class=\"artist\">Benson Boone</em></p>,\n",
       " <p class=\"title-artist\"><cite class=\"title\">Last Night</cite><em class=\"artist\">Morgan Wallen</em></p>,\n",
       " <p class=\"title-artist\"><cite class=\"title\">Selling (feat. OJ Da Juiceman)</cite><em class=\"artist\">Sukihana</em></p>,\n",
       " <p class=\"title-artist\"><cite class=\"title\">Closer</cite><em class=\"artist\">August Moon</em></p>,\n",
       " <p class=\"title-artist\"><cite class=\"title\">I Remember Everything (feat. Kacey Musgraves)</cite><em class=\"artist\">Zach Bryan</em></p>,\n",
       " <p class=\"title-artist\"><cite class=\"title\">Praise (feat. Brandon Lake, Chris Brown &amp; Chandler Moore)</cite><em class=\"artist\">Elevation Worship</em></p>,\n",
       " <p class=\"title-artist\"><cite class=\"title\">Bulletproof</cite><em class=\"artist\">Nate Smith</em></p>,\n",
       " <p class=\"title-artist\"><cite class=\"title\">GOOD DAY</cite><em class=\"artist\">Forrest Frank</em></p>,\n",
       " <p class=\"title-artist\"><cite class=\"title\">Lovin On Me</cite><em class=\"artist\">Jack Harlow</em></p>,\n",
       " <p class=\"title-artist\"><cite class=\"title\">I Hope You Dance</cite><em class=\"artist\">Lee Ann Womack</em></p>,\n",
       " <p class=\"title-artist\"><cite class=\"title\">Lobby</cite><em class=\"artist\">SMITH</em></p>,\n",
       " <p class=\"title-artist\"><cite class=\"title\">Flowers</cite><em class=\"artist\">Miley Cyrus</em></p>,\n",
       " <p class=\"title-artist\"><cite class=\"title\">Wine Into Whiskey</cite><em class=\"artist\">Tucker Wetmore</em></p>,\n",
       " <p class=\"title-artist\"><cite class=\"title\">we can't be friends (wait for your love)</cite><em class=\"artist\">Ariana Grande</em></p>,\n",
       " <p class=\"title-artist\"><cite class=\"title\">Slow It Down</cite><em class=\"artist\">Benson Boone</em></p>,\n",
       " <p class=\"title-artist\"><cite class=\"title\">Hard to Love</cite><em class=\"artist\">Lee Brice</em></p>,\n",
       " <p class=\"title-artist\"><cite class=\"title\">Thinkin’ Bout Me</cite><em class=\"artist\">Morgan Wallen</em></p>,\n",
       " <p class=\"title-artist\"><cite class=\"title\">Forever and Ever, Amen</cite><em class=\"artist\">Randy Travis</em></p>,\n",
       " <p class=\"title-artist\"><cite class=\"title\">Cruel Summer</cite><em class=\"artist\">Taylor Swift</em></p>,\n",
       " <p class=\"title-artist\"><cite class=\"title\">Made For Me</cite><em class=\"artist\">Muni Long</em></p>,\n",
       " <p class=\"title-artist\"><cite class=\"title\">Down Bad</cite><em class=\"artist\">Taylor Swift</em></p>,\n",
       " <p class=\"title-artist\"><cite class=\"title\">You Make Everything Beautiful</cite><em class=\"artist\">for KING &amp; COUNTRY &amp; Rebecca St. James</em></p>,\n",
       " <p class=\"title-artist\"><cite class=\"title\">Tennessee Whiskey</cite><em class=\"artist\">Chris Stapleton</em></p>,\n",
       " <p class=\"title-artist\"><cite class=\"title\">Unstoppable</cite><em class=\"artist\">Sia</em></p>,\n",
       " <p class=\"title-artist\"><cite class=\"title\">Light On</cite><em class=\"artist\">Maggie Rogers</em></p>,\n",
       " <p class=\"title-artist\"><cite class=\"title\">Belong Together</cite><em class=\"artist\">Mark Ambor</em></p>,\n",
       " <p class=\"title-artist\"><cite class=\"title\">Powerful Women</cite><em class=\"artist\">Pitbull &amp; Dolly Parton</em></p>,\n",
       " <p class=\"title-artist\"><cite class=\"title\">II MOST WANTED</cite><em class=\"artist\">Beyoncé &amp; Miley Cyrus</em></p>,\n",
       " <p class=\"title-artist\"><cite class=\"title\">End of Beginning</cite><em class=\"artist\">Djo</em></p>,\n",
       " <p class=\"title-artist\"><cite class=\"title\">Divine</cite><em class=\"artist\">All That Remains</em></p>,\n",
       " <p class=\"title-artist\"><cite class=\"title\">Broadway Girls (feat. Morgan Wallen)</cite><em class=\"artist\">Lil Durk</em></p>,\n",
       " <p class=\"title-artist\"><cite class=\"title\">Wanna Be</cite><em class=\"artist\">GloRilla &amp; Megan Thee Stallion</em></p>,\n",
       " <p class=\"title-artist\"><cite class=\"title\">Home</cite><em class=\"artist\">Good Neighbours</em></p>,\n",
       " <p class=\"title-artist\"><cite class=\"title\">Who’s Afraid of Little Old Me?</cite><em class=\"artist\">Taylor Swift</em></p>,\n",
       " <p class=\"title-artist\"><cite class=\"title\">Angels (Don’t Always Have Wings)</cite><em class=\"artist\">Thomas Rhett</em></p>,\n",
       " <p class=\"title-artist\"><cite class=\"title\">Pirates &amp; Parrots (feat. Mac McAnally)</cite><em class=\"artist\">Zac Brown Band</em></p>,\n",
       " <p class=\"title-artist\"><cite class=\"title\">Take It All Back</cite><em class=\"artist\">Tauren Wells, We The Kingdom &amp; Davies</em></p>,\n",
       " <p class=\"title-artist\"><cite class=\"title\">Hammer to the Heart</cite><em class=\"artist\">Teddy Swims</em></p>,\n",
       " <p class=\"title-artist\"><cite class=\"title\">Taste</cite><em class=\"artist\">August Moon</em></p>,\n",
       " <p class=\"title-artist\"><cite class=\"title\">Something in the Orange (Z&amp;E's Version)</cite><em class=\"artist\">Zach Bryan</em></p>,\n",
       " <p class=\"title-artist\"><cite class=\"title\">Saturn</cite><em class=\"artist\">SZA</em></p>,\n",
       " <p class=\"title-artist\"><cite class=\"title\">Wranglers</cite><em class=\"artist\">Miranda Lambert</em></p>,\n",
       " <p class=\"title-artist\"><cite class=\"title\">Been Like This</cite><em class=\"artist\">Meghan Trainor &amp; T-Pain</em></p>,\n",
       " <p class=\"title-artist\"><cite class=\"title\">Spirit In the Sky</cite><em class=\"artist\">Norman Greenbaum</em></p>,\n",
       " <p class=\"title-artist\"><cite class=\"title\">Goodness of God (Live)</cite><em class=\"artist\">CeCe Winans</em></p>,\n",
       " <p class=\"title-artist\"><cite class=\"title\">What Was I Made For? (From The Motion Picture \"Barbie\")</cite><em class=\"artist\">Billie Eilish</em></p>,\n",
       " <p class=\"title-artist\"><cite class=\"title\">Cab In A Solo</cite><em class=\"artist\">Scotty McCreery</em></p>,\n",
       " <p class=\"title-artist\"><cite class=\"title\">Dance Before We Walk</cite><em class=\"artist\">August Moon</em></p>,\n",
       " <p class=\"title-artist\"><cite class=\"title\">Happy For You</cite><em class=\"artist\">Dua Lipa</em></p>,\n",
       " <p class=\"title-artist\"><cite class=\"title\">Spin You Around (1/24)</cite><em class=\"artist\">Morgan Wallen</em></p>,\n",
       " <p class=\"title-artist\"><cite class=\"title\">G.R.I.T.S</cite><em class=\"artist\">Jimmie Allen</em></p>,\n",
       " <p class=\"title-artist\"><cite class=\"title\">Wanna Be</cite><em class=\"artist\">GloRilla &amp; Megan Thee Stallion</em></p>]"
      ]
     },
     "execution_count": 7,
     "metadata": {},
     "output_type": "execute_result"
    }
   ],
   "source": [
    "soup.select(\"div.chart-content.col-xs-12.col-sm-8 > p\")"
   ]
  },
  {
   "cell_type": "code",
   "execution_count": 8,
   "id": "ed2c67be",
   "metadata": {},
   "outputs": [],
   "source": [
    "html_elements = soup.select(\"div.chart-content.col-xs-12.col-sm-8 > p\")"
   ]
  },
  {
   "cell_type": "code",
   "execution_count": 9,
   "id": "06df38f1",
   "metadata": {},
   "outputs": [
    {
     "data": {
      "text/plain": [
       "bs4.element.ResultSet"
      ]
     },
     "execution_count": 9,
     "metadata": {},
     "output_type": "execute_result"
    }
   ],
   "source": [
    "type(html_elements)"
   ]
  },
  {
   "cell_type": "code",
   "execution_count": 10,
   "id": "25880205",
   "metadata": {},
   "outputs": [],
   "source": [
    "titles = []\n",
    "artists = []"
   ]
  },
  {
   "cell_type": "code",
   "execution_count": 11,
   "id": "ca6a6ad2",
   "metadata": {},
   "outputs": [],
   "source": [
    "for element in html_elements:\n",
    "    \n",
    "    title = element.find('cite', class_='title').text\n",
    "    artist = element.find('em', class_='artist').text\n",
    "    titles.append(title)\n",
    "    artists.append(artist)\n",
    "\n"
   ]
  },
  {
   "cell_type": "code",
   "execution_count": 12,
   "id": "6c7ffa03",
   "metadata": {},
   "outputs": [],
   "source": [
    "#artists"
   ]
  },
  {
   "cell_type": "code",
   "execution_count": 13,
   "id": "634aae2a",
   "metadata": {},
   "outputs": [],
   "source": [
    "#titles"
   ]
  },
  {
   "cell_type": "code",
   "execution_count": 14,
   "id": "13d6598b",
   "metadata": {},
   "outputs": [],
   "source": [
    "top_songs = pd.DataFrame({'artist': artists, 'song_title': titles})"
   ]
  },
  {
   "cell_type": "code",
   "execution_count": 15,
   "id": "9ebb06b0",
   "metadata": {},
   "outputs": [
    {
     "data": {
      "text/html": [
       "<div>\n",
       "<style scoped>\n",
       "    .dataframe tbody tr th:only-of-type {\n",
       "        vertical-align: middle;\n",
       "    }\n",
       "\n",
       "    .dataframe tbody tr th {\n",
       "        vertical-align: top;\n",
       "    }\n",
       "\n",
       "    .dataframe thead th {\n",
       "        text-align: right;\n",
       "    }\n",
       "</style>\n",
       "<table border=\"1\" class=\"dataframe\">\n",
       "  <thead>\n",
       "    <tr style=\"text-align: right;\">\n",
       "      <th></th>\n",
       "      <th>artist</th>\n",
       "      <th>song_title</th>\n",
       "    </tr>\n",
       "  </thead>\n",
       "  <tbody>\n",
       "    <tr>\n",
       "      <th>0</th>\n",
       "      <td>Kendrick Lamar</td>\n",
       "      <td>Not Like Us</td>\n",
       "    </tr>\n",
       "    <tr>\n",
       "      <th>1</th>\n",
       "      <td>Shaboozey</td>\n",
       "      <td>A Bar Song (Tipsy)</td>\n",
       "    </tr>\n",
       "    <tr>\n",
       "      <th>2</th>\n",
       "      <td>Kendrick Lamar</td>\n",
       "      <td>meet the grahams</td>\n",
       "    </tr>\n",
       "    <tr>\n",
       "      <th>3</th>\n",
       "      <td>Teddy Swims</td>\n",
       "      <td>Lose Control</td>\n",
       "    </tr>\n",
       "    <tr>\n",
       "      <th>4</th>\n",
       "      <td>Randy Travis</td>\n",
       "      <td>Where That Came From</td>\n",
       "    </tr>\n",
       "    <tr>\n",
       "      <th>...</th>\n",
       "      <td>...</td>\n",
       "      <td>...</td>\n",
       "    </tr>\n",
       "    <tr>\n",
       "      <th>95</th>\n",
       "      <td>August Moon</td>\n",
       "      <td>Dance Before We Walk</td>\n",
       "    </tr>\n",
       "    <tr>\n",
       "      <th>96</th>\n",
       "      <td>Dua Lipa</td>\n",
       "      <td>Happy For You</td>\n",
       "    </tr>\n",
       "    <tr>\n",
       "      <th>97</th>\n",
       "      <td>Morgan Wallen</td>\n",
       "      <td>Spin You Around (1/24)</td>\n",
       "    </tr>\n",
       "    <tr>\n",
       "      <th>98</th>\n",
       "      <td>Jimmie Allen</td>\n",
       "      <td>G.R.I.T.S</td>\n",
       "    </tr>\n",
       "    <tr>\n",
       "      <th>99</th>\n",
       "      <td>GloRilla &amp; Megan Thee Stallion</td>\n",
       "      <td>Wanna Be</td>\n",
       "    </tr>\n",
       "  </tbody>\n",
       "</table>\n",
       "<p>100 rows × 2 columns</p>\n",
       "</div>"
      ],
      "text/plain": [
       "                            artist              song_title\n",
       "0                   Kendrick Lamar             Not Like Us\n",
       "1                        Shaboozey      A Bar Song (Tipsy)\n",
       "2                   Kendrick Lamar        meet the grahams\n",
       "3                      Teddy Swims            Lose Control\n",
       "4                     Randy Travis    Where That Came From\n",
       "..                             ...                     ...\n",
       "95                     August Moon    Dance Before We Walk\n",
       "96                        Dua Lipa           Happy For You\n",
       "97                   Morgan Wallen  Spin You Around (1/24)\n",
       "98                    Jimmie Allen               G.R.I.T.S\n",
       "99  GloRilla & Megan Thee Stallion                Wanna Be\n",
       "\n",
       "[100 rows x 2 columns]"
      ]
     },
     "execution_count": 15,
     "metadata": {},
     "output_type": "execute_result"
    }
   ],
   "source": [
    "top_songs"
   ]
  },
  {
   "cell_type": "code",
   "execution_count": null,
   "id": "10b4d42c",
   "metadata": {},
   "outputs": [],
   "source": []
  }
 ],
 "metadata": {
  "kernelspec": {
   "display_name": "Python 3 (ipykernel)",
   "language": "python",
   "name": "python3"
  },
  "language_info": {
   "codemirror_mode": {
    "name": "ipython",
    "version": 3
   },
   "file_extension": ".py",
   "mimetype": "text/x-python",
   "name": "python",
   "nbconvert_exporter": "python",
   "pygments_lexer": "ipython3",
   "version": "3.11.5"
  }
 },
 "nbformat": 4,
 "nbformat_minor": 5
}
